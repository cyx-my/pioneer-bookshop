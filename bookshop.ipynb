{
 "cells": [
  {
   "cell_type": "code",
   "execution_count": 9,
   "metadata": {},
   "outputs": [
    {
     "name": "stdout",
     "output_type": "stream",
     "text": [
      "Top 100 Words:\n",
      "很多: 2\n",
      "服务态度: 1\n",
      "很: 1\n",
      "好: 1\n",
      "员工: 1\n",
      "热情: 1\n",
      "图书: 1\n",
      "种类: 1\n",
      "丰富: 1\n",
      "书籍: 1\n",
      "价格: 1\n",
      "比较: 1\n",
      "实惠: 1\n",
      "优惠活动: 1\n",
      "\n",
      "Category Frequency:\n",
      "服务: 2\n",
      "图书: 2\n",
      "价格: 2\n"
     ]
    }
   ],
   "source": [
    "import jieba\n",
    "from collections import Counter\n",
    "\n",
    "def preprocess_text(text):\n",
    "    # 分词处理\n",
    "    words = jieba.cut(text)\n",
    "    # 去除停用词\n",
    "    stop_words = set(['，','。','的', '是', '在', '了', '和', '有', '就', '也', '都', '上', '中', '下'])\n",
    "    words = [word for word in words if word not in stop_words]\n",
    "    return words\n",
    "\n",
    "def analyze_comments(comments):\n",
    "    # 统计词频\n",
    "    word_freq = Counter()\n",
    "    # 意群分类\n",
    "    categories = {'服务': ['服务', '态度', '员工'], '图书': ['图书', '书籍', '品种'], '价格': ['价格', '优惠', '折扣']}\n",
    "    \n",
    "    for comment in comments:\n",
    "        comment_id, comment_content = comment.split(\" \", 1)\n",
    "        words = preprocess_text(comment_content)\n",
    "        word_freq.update(words)\n",
    "\n",
    "    # 获取词频最高的100个词\n",
    "    top_words = word_freq.most_common(100)\n",
    "\n",
    "    # 按照意群进行分类\n",
    "    category_freq = {category: 0 for category in categories}\n",
    "    for word, freq in top_words:\n",
    "        for category, keywords in categories.items():\n",
    "            if any(keyword in word for keyword in keywords):\n",
    "                category_freq[category] += freq\n",
    "\n",
    "    return top_words, category_freq\n",
    "\n",
    "if __name__ == \"__main__\":\n",
    "    # 你的100段评论\n",
    "    comments = [\n",
    "        \"1 服务态度很好，员工热情。\",\n",
    "        \"2 图书种类丰富，书籍很多。\",\n",
    "        \"3 价格比较实惠，有很多优惠活动。\",\n",
    "        # ... （添加剩余的评论）\n",
    "    ]\n",
    "\n",
    "    top_words, category_freq = analyze_comments(comments)\n",
    "\n",
    "    print(\"Top 100 Words:\")\n",
    "    for word, freq in top_words:\n",
    "        print(f\"{word}: {freq}\")\n",
    "\n",
    "    print(\"\\nCategory Frequency:\")\n",
    "    for category, freq in category_freq.items():\n",
    "        print(f\"{category}: {freq}\")\n",
    "\n",
    "\n"
   ]
  }
 ],
 "metadata": {
  "kernelspec": {
   "display_name": "base",
   "language": "python",
   "name": "python3"
  },
  "language_info": {
   "codemirror_mode": {
    "name": "ipython",
    "version": 3
   },
   "file_extension": ".py",
   "mimetype": "text/x-python",
   "name": "python",
   "nbconvert_exporter": "python",
   "pygments_lexer": "ipython3",
   "version": "3.10.9"
  }
 },
 "nbformat": 4,
 "nbformat_minor": 2
}
